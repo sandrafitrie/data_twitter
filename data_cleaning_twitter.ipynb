{
 "cells": [
  {
   "cell_type": "code",
   "execution_count": 24,
   "metadata": {},
   "outputs": [],
   "source": [
    "import pandas as pd\n",
    "import re \n",
    "import string\n",
    "from sklearn.pipeline import Pipeline\n",
    "import numpy as np"
   ]
  },
  {
   "cell_type": "code",
   "execution_count": 25,
   "metadata": {},
   "outputs": [],
   "source": [
    "analyst=pd.read_csv(\"C:\\\\Users\\\\win10\\\\Downloads\\\\DA\\\\data_analyst.csv\")\n",
    "engineer=pd.read_csv(\"C:\\\\Users\\\\win10\\\\Downloads\\\\DA\\\\data_engineer.csv\")\n",
    "scientist=pd.read_csv(\"C:\\\\Users\\\\win10\\\\Downloads\\\\DA\\\\data_scientist.csv\")"
   ]
  },
  {
   "cell_type": "code",
   "execution_count": 26,
   "metadata": {},
   "outputs": [],
   "source": [
    "analyst['topic']='Data Analyst'\n",
    "engineer['topic']='Data Engineer'\n",
    "scientist['topic']='Data Scientist'"
   ]
  },
  {
   "cell_type": "code",
   "execution_count": 27,
   "metadata": {},
   "outputs": [
    {
     "data": {
      "text/plain": [
       "Index(['Unnamed: 0', 'waktu', 'id', 'username', 'teks', 'topic'], dtype='object')"
      ]
     },
     "execution_count": 27,
     "metadata": {},
     "output_type": "execute_result"
    }
   ],
   "source": [
    "engineer.columns"
   ]
  },
  {
   "cell_type": "code",
   "execution_count": 28,
   "metadata": {},
   "outputs": [
    {
     "data": {
      "text/plain": [
       "Index(['waktu', 'id', 'username', 'teks', 'topic'], dtype='object')"
      ]
     },
     "execution_count": 28,
     "metadata": {},
     "output_type": "execute_result"
    }
   ],
   "source": [
    "scientist.columns"
   ]
  },
  {
   "cell_type": "code",
   "execution_count": 29,
   "metadata": {},
   "outputs": [
    {
     "data": {
      "text/plain": [
       "Index(['Unnamed: 0', 'waktu', 'id', 'username', 'teks', 'topic'], dtype='object')"
      ]
     },
     "execution_count": 29,
     "metadata": {},
     "output_type": "execute_result"
    }
   ],
   "source": [
    "analyst.columns"
   ]
  },
  {
   "cell_type": "code",
   "execution_count": 30,
   "metadata": {},
   "outputs": [],
   "source": [
    "engineer.drop(labels=['Unnamed: 0'], axis=1, inplace=True)\n",
    "analyst.drop(labels=['Unnamed: 0'], axis=1, inplace=True)"
   ]
  },
  {
   "cell_type": "code",
   "execution_count": 31,
   "metadata": {},
   "outputs": [],
   "source": [
    "df=pd.concat([analyst,engineer,scientist])"
   ]
  },
  {
   "cell_type": "code",
   "execution_count": 32,
   "metadata": {},
   "outputs": [
    {
     "data": {
      "text/plain": [
       "1610"
      ]
     },
     "execution_count": 32,
     "metadata": {},
     "output_type": "execute_result"
    }
   ],
   "source": [
    "len(df)"
   ]
  },
  {
   "cell_type": "code",
   "execution_count": 17,
   "metadata": {},
   "outputs": [],
   "source": [
    "df.to_csv(\"C:\\\\Users\\\\win10\\\\Downloads\\\\DA\\\\data_gabungan_twitter.csv\")"
   ]
  },
  {
   "cell_type": "code",
   "execution_count": 33,
   "metadata": {},
   "outputs": [],
   "source": [
    "df=pd.read_csv(\"C:\\\\Users\\\\win10\\\\Downloads\\\\DA\\\\data_gabungan_twitter.csv\")"
   ]
  },
  {
   "cell_type": "code",
   "execution_count": 34,
   "metadata": {},
   "outputs": [],
   "source": [
    "var=df['teks'].str.split(\"'\",n=1,expand=True)"
   ]
  },
  {
   "cell_type": "code",
   "execution_count": 35,
   "metadata": {},
   "outputs": [],
   "source": [
    "df['new_teks']=var[1]"
   ]
  },
  {
   "cell_type": "code",
   "execution_count": 36,
   "metadata": {},
   "outputs": [],
   "source": [
    "def remove_pattern(tweet,pattern):\n",
    "    r = re.findall(pattern,tweet)\n",
    "    for i in r:\n",
    "        tweet = re.sub(i,'',tweet)\n",
    "    return tweet\n",
    "df['remove_user']=np.vectorize(remove_pattern)(df['new_teks'],\"@[\\w]*\")"
   ]
  },
  {
   "cell_type": "code",
   "execution_count": 37,
   "metadata": {},
   "outputs": [],
   "source": [
    "def remove(tweet):\n",
    "    tweet = re.sub('[0-9]+','',tweet)\n",
    "    tweet = re.sub(r'\\$\\w*','',tweet)\n",
    "    tweet = re.sub(r'^RT[\\s]+','',tweet)\n",
    "    tweet = re.sub('#','',tweet)\n",
    "    tweet = re.sub(':','',tweet)\n",
    "    return tweet\n",
    "df['clean_text']=df['remove_user'].apply(lambda x: remove(x))"
   ]
  },
  {
   "cell_type": "code",
   "execution_count": 38,
   "metadata": {},
   "outputs": [],
   "source": [
    "df.drop_duplicates(subset='clean_text', keep='first', inplace =True)"
   ]
  },
  {
   "cell_type": "code",
   "execution_count": 39,
   "metadata": {},
   "outputs": [
    {
     "data": {
      "text/html": [
       "<div>\n",
       "<style scoped>\n",
       "    .dataframe tbody tr th:only-of-type {\n",
       "        vertical-align: middle;\n",
       "    }\n",
       "\n",
       "    .dataframe tbody tr th {\n",
       "        vertical-align: top;\n",
       "    }\n",
       "\n",
       "    .dataframe thead th {\n",
       "        text-align: right;\n",
       "    }\n",
       "</style>\n",
       "<table border=\"1\" class=\"dataframe\">\n",
       "  <thead>\n",
       "    <tr style=\"text-align: right;\">\n",
       "      <th></th>\n",
       "      <th>Unnamed: 0</th>\n",
       "      <th>waktu</th>\n",
       "      <th>id</th>\n",
       "      <th>username</th>\n",
       "      <th>teks</th>\n",
       "      <th>topic</th>\n",
       "      <th>new_teks</th>\n",
       "      <th>remove_user</th>\n",
       "      <th>clean_text</th>\n",
       "    </tr>\n",
       "  </thead>\n",
       "  <tbody>\n",
       "    <tr>\n",
       "      <th>0</th>\n",
       "      <td>0</td>\n",
       "      <td>2022-07-16 08:41:53</td>\n",
       "      <td>1.548226e+18</td>\n",
       "      <td>cha</td>\n",
       "      <td>b'Hmmmmmm, x suka coding tp kenapala syelalu e...</td>\n",
       "      <td>Data Analyst</td>\n",
       "      <td>Hmmmmmm, x suka coding tp kenapala syelalu end...</td>\n",
       "      <td>Hmmmmmm, x suka coding tp kenapala syelalu end...</td>\n",
       "      <td>Hmmmmmm, x suka coding tp kenapala syelalu end...</td>\n",
       "    </tr>\n",
       "    <tr>\n",
       "      <th>1</th>\n",
       "      <td>1</td>\n",
       "      <td>2022-07-16 07:45:35</td>\n",
       "      <td>1.548212e+18</td>\n",
       "      <td>radityari</td>\n",
       "      <td>b'@txtfrombrand Di tangan fakhira mah sudah te...</td>\n",
       "      <td>Data Analyst</td>\n",
       "      <td>@txtfrombrand Di tangan fakhira mah sudah terb...</td>\n",
       "      <td>Di tangan fakhira mah sudah terblokir lapakny...</td>\n",
       "      <td>Di tangan fakhira mah sudah terblokir lapakny...</td>\n",
       "    </tr>\n",
       "    <tr>\n",
       "      <th>2</th>\n",
       "      <td>2</td>\n",
       "      <td>2022-07-16 07:42:39</td>\n",
       "      <td>1.548211e+18</td>\n",
       "      <td>nattokki</td>\n",
       "      <td>b'@nonntft @collegemenfess Ga sekedar perkenal...</td>\n",
       "      <td>Data Analyst</td>\n",
       "      <td>@nonntft @collegemenfess Ga sekedar perkenalan...</td>\n",
       "      <td>Ga sekedar perkenalan aja kok. Di jelasin ga...</td>\n",
       "      <td>Ga sekedar perkenalan aja kok. Di jelasin ga...</td>\n",
       "    </tr>\n",
       "    <tr>\n",
       "      <th>3</th>\n",
       "      <td>3</td>\n",
       "      <td>2022-07-16 06:23:19</td>\n",
       "      <td>1.548192e+18</td>\n",
       "      <td>Henry S 🐝</td>\n",
       "      <td>b'@Darrod_ @legolard Ada 1 jurnalis Tifo udah ...</td>\n",
       "      <td>Data Analyst</td>\n",
       "      <td>@Darrod_ @legolard Ada 1 jurnalis Tifo udah ja...</td>\n",
       "      <td>Ada 1 jurnalis Tifo udah jadi data analyst d...</td>\n",
       "      <td>Ada  jurnalis Tifo udah jadi data analyst di...</td>\n",
       "    </tr>\n",
       "    <tr>\n",
       "      <th>4</th>\n",
       "      <td>4</td>\n",
       "      <td>2022-07-16 04:49:40</td>\n",
       "      <td>1.548168e+18</td>\n",
       "      <td>COLLE</td>\n",
       "      <td>b'[cm] kalian yg sekarang menekuni data analys...</td>\n",
       "      <td>Data Analyst</td>\n",
       "      <td>[cm] kalian yg sekarang menekuni data analyst ...</td>\n",
       "      <td>[cm] kalian yg sekarang menekuni data analyst ...</td>\n",
       "      <td>[cm] kalian yg sekarang menekuni data analyst ...</td>\n",
       "    </tr>\n",
       "  </tbody>\n",
       "</table>\n",
       "</div>"
      ],
      "text/plain": [
       "   Unnamed: 0                waktu            id   username  \\\n",
       "0           0  2022-07-16 08:41:53  1.548226e+18        cha   \n",
       "1           1  2022-07-16 07:45:35  1.548212e+18  radityari   \n",
       "2           2  2022-07-16 07:42:39  1.548211e+18   nattokki   \n",
       "3           3  2022-07-16 06:23:19  1.548192e+18  Henry S 🐝   \n",
       "4           4  2022-07-16 04:49:40  1.548168e+18      COLLE   \n",
       "\n",
       "                                                teks         topic  \\\n",
       "0  b'Hmmmmmm, x suka coding tp kenapala syelalu e...  Data Analyst   \n",
       "1  b'@txtfrombrand Di tangan fakhira mah sudah te...  Data Analyst   \n",
       "2  b'@nonntft @collegemenfess Ga sekedar perkenal...  Data Analyst   \n",
       "3  b'@Darrod_ @legolard Ada 1 jurnalis Tifo udah ...  Data Analyst   \n",
       "4  b'[cm] kalian yg sekarang menekuni data analys...  Data Analyst   \n",
       "\n",
       "                                            new_teks  \\\n",
       "0  Hmmmmmm, x suka coding tp kenapala syelalu end...   \n",
       "1  @txtfrombrand Di tangan fakhira mah sudah terb...   \n",
       "2  @nonntft @collegemenfess Ga sekedar perkenalan...   \n",
       "3  @Darrod_ @legolard Ada 1 jurnalis Tifo udah ja...   \n",
       "4  [cm] kalian yg sekarang menekuni data analyst ...   \n",
       "\n",
       "                                         remove_user  \\\n",
       "0  Hmmmmmm, x suka coding tp kenapala syelalu end...   \n",
       "1   Di tangan fakhira mah sudah terblokir lapakny...   \n",
       "2    Ga sekedar perkenalan aja kok. Di jelasin ga...   \n",
       "3    Ada 1 jurnalis Tifo udah jadi data analyst d...   \n",
       "4  [cm] kalian yg sekarang menekuni data analyst ...   \n",
       "\n",
       "                                          clean_text  \n",
       "0  Hmmmmmm, x suka coding tp kenapala syelalu end...  \n",
       "1   Di tangan fakhira mah sudah terblokir lapakny...  \n",
       "2    Ga sekedar perkenalan aja kok. Di jelasin ga...  \n",
       "3    Ada  jurnalis Tifo udah jadi data analyst di...  \n",
       "4  [cm] kalian yg sekarang menekuni data analyst ...  "
      ]
     },
     "execution_count": 39,
     "metadata": {},
     "output_type": "execute_result"
    }
   ],
   "source": [
    "df.head()"
   ]
  },
  {
   "cell_type": "code",
   "execution_count": 40,
   "metadata": {},
   "outputs": [
    {
     "data": {
      "text/plain": [
       "552"
      ]
     },
     "execution_count": 40,
     "metadata": {},
     "output_type": "execute_result"
    }
   ],
   "source": [
    "len(df)"
   ]
  },
  {
   "cell_type": "code",
   "execution_count": 41,
   "metadata": {},
   "outputs": [],
   "source": [
    "df.drop(labels=['Unnamed: 0'], axis=1, inplace=True)"
   ]
  },
  {
   "cell_type": "code",
   "execution_count": 42,
   "metadata": {
    "scrolled": true
   },
   "outputs": [
    {
     "data": {
      "text/html": [
       "<div>\n",
       "<style scoped>\n",
       "    .dataframe tbody tr th:only-of-type {\n",
       "        vertical-align: middle;\n",
       "    }\n",
       "\n",
       "    .dataframe tbody tr th {\n",
       "        vertical-align: top;\n",
       "    }\n",
       "\n",
       "    .dataframe thead th {\n",
       "        text-align: right;\n",
       "    }\n",
       "</style>\n",
       "<table border=\"1\" class=\"dataframe\">\n",
       "  <thead>\n",
       "    <tr style=\"text-align: right;\">\n",
       "      <th></th>\n",
       "      <th>waktu</th>\n",
       "      <th>id</th>\n",
       "      <th>username</th>\n",
       "      <th>teks</th>\n",
       "      <th>topic</th>\n",
       "      <th>new_teks</th>\n",
       "      <th>remove_user</th>\n",
       "      <th>clean_text</th>\n",
       "    </tr>\n",
       "  </thead>\n",
       "  <tbody>\n",
       "    <tr>\n",
       "      <th>0</th>\n",
       "      <td>2022-07-16 08:41:53</td>\n",
       "      <td>1.548226e+18</td>\n",
       "      <td>cha</td>\n",
       "      <td>b'Hmmmmmm, x suka coding tp kenapala syelalu e...</td>\n",
       "      <td>Data Analyst</td>\n",
       "      <td>Hmmmmmm, x suka coding tp kenapala syelalu end...</td>\n",
       "      <td>Hmmmmmm, x suka coding tp kenapala syelalu end...</td>\n",
       "      <td>Hmmmmmm, x suka coding tp kenapala syelalu end...</td>\n",
       "    </tr>\n",
       "    <tr>\n",
       "      <th>1</th>\n",
       "      <td>2022-07-16 07:45:35</td>\n",
       "      <td>1.548212e+18</td>\n",
       "      <td>radityari</td>\n",
       "      <td>b'@txtfrombrand Di tangan fakhira mah sudah te...</td>\n",
       "      <td>Data Analyst</td>\n",
       "      <td>@txtfrombrand Di tangan fakhira mah sudah terb...</td>\n",
       "      <td>Di tangan fakhira mah sudah terblokir lapakny...</td>\n",
       "      <td>Di tangan fakhira mah sudah terblokir lapakny...</td>\n",
       "    </tr>\n",
       "  </tbody>\n",
       "</table>\n",
       "</div>"
      ],
      "text/plain": [
       "                 waktu            id   username  \\\n",
       "0  2022-07-16 08:41:53  1.548226e+18        cha   \n",
       "1  2022-07-16 07:45:35  1.548212e+18  radityari   \n",
       "\n",
       "                                                teks         topic  \\\n",
       "0  b'Hmmmmmm, x suka coding tp kenapala syelalu e...  Data Analyst   \n",
       "1  b'@txtfrombrand Di tangan fakhira mah sudah te...  Data Analyst   \n",
       "\n",
       "                                            new_teks  \\\n",
       "0  Hmmmmmm, x suka coding tp kenapala syelalu end...   \n",
       "1  @txtfrombrand Di tangan fakhira mah sudah terb...   \n",
       "\n",
       "                                         remove_user  \\\n",
       "0  Hmmmmmm, x suka coding tp kenapala syelalu end...   \n",
       "1   Di tangan fakhira mah sudah terblokir lapakny...   \n",
       "\n",
       "                                          clean_text  \n",
       "0  Hmmmmmm, x suka coding tp kenapala syelalu end...  \n",
       "1   Di tangan fakhira mah sudah terblokir lapakny...  "
      ]
     },
     "execution_count": 42,
     "metadata": {},
     "output_type": "execute_result"
    }
   ],
   "source": [
    "df.head(2)"
   ]
  },
  {
   "cell_type": "code",
   "execution_count": null,
   "metadata": {},
   "outputs": [],
   "source": [
    "df.to_csv(\"C:\\\\Users\\\\win10\\\\Downloads\\\\DA\\\\data_clean_twitter.csv\")"
   ]
  }
 ],
 "metadata": {
  "kernelspec": {
   "display_name": "Python 3",
   "language": "python",
   "name": "python3"
  },
  "language_info": {
   "codemirror_mode": {
    "name": "ipython",
    "version": 3
   },
   "file_extension": ".py",
   "mimetype": "text/x-python",
   "name": "python",
   "nbconvert_exporter": "python",
   "pygments_lexer": "ipython3",
   "version": "3.8.5"
  }
 },
 "nbformat": 4,
 "nbformat_minor": 4
}
